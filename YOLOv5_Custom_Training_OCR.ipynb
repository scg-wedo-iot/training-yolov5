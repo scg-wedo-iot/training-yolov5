{
 "cells": [
  {
   "attachments": {},
   "cell_type": "markdown",
   "metadata": {
    "id": "wOEqdJott7rg"
   },
   "source": [
    "## **Set up**\n",
    "1.   Check your GPU support CUDA https://developer.nvidia.com/cuda-gpus\n",
    "2.   Install pytorch https://pytorch.org/get-started/locally/ (recommended coda version)\n",
    "3.   Download CUDA version as pytouch version https://developer.nvidia.com/cuda-11-8-0-download-archive\n",
    "\n",
    "4.  Clone YOLOv5 https://github.com/ultralytics/yolov5 to wedo-ocr-watermeter-sw/tools/makeModel\n",
    "\n",
    "\n",
    "\n"
   ]
  },
  {
   "attachments": {},
   "cell_type": "markdown",
   "metadata": {},
   "source": [
    "# Down load torch\n"
   ]
  },
  {
   "cell_type": "code",
   "execution_count": null,
   "metadata": {},
   "outputs": [],
   "source": [
    "!pip install torch torchvision torchaudio #cpu\n",
    "#!pip install torch torchvision torchaudio --index-url https://download.pytorch.org/whl/cu118 #windows cuda 11.8"
   ]
  },
  {
   "attachments": {},
   "cell_type": "markdown",
   "metadata": {},
   "source": [
    "# Down load data"
   ]
  },
  {
   "cell_type": "code",
   "execution_count": null,
   "metadata": {},
   "outputs": [],
   "source": [
    "# https://universe.roboflow.com/chickens/chicken-detection-and-tracking/dataset/1\n",
    "!curl -L \"https://universe.roboflow.com/ds/fneuitxnGA?key=O0keGNyBJ9\" > roboflow.zip; \n",
    "!unzip roboflow.zip -d Rock_Paper_Scissors; rm roboflow.zip"
   ]
  },
  {
   "attachments": {},
   "cell_type": "markdown",
   "metadata": {},
   "source": [
    "# Down load lib"
   ]
  },
  {
   "cell_type": "code",
   "execution_count": null,
   "metadata": {},
   "outputs": [],
   "source": [
    "#!git clone https://github.com/ultralytics/yolov5  # clone\n",
    "%cd yolov5\n",
    "#!pip install -r requirements.txt  # install"
   ]
  },
  {
   "attachments": {},
   "cell_type": "markdown",
   "metadata": {},
   "source": [
    "# Test image YOLO"
   ]
  },
  {
   "cell_type": "code",
   "execution_count": null,
   "metadata": {
    "id": "XseMNEzawy-o"
   },
   "outputs": [],
   "source": [
    "#Check library \n",
    "#test\n",
    "\n",
    "import torch\n",
    "import os\n",
    "from IPython.display import Image, clear_output  # to display images\n",
    "\n",
    "print(f\"Setup complete. Using torch {torch.__version__} ({torch.cuda.get_device_properties(0).name if torch.cuda.is_available()  else 'CPU'})\")\n"
   ]
  },
  {
   "cell_type": "code",
   "execution_count": null,
   "metadata": {},
   "outputs": [],
   "source": [
    "!python detect.py --weights yolov5s.pt --source \"https://hgtvhome.sndimg.com/content/dam/images/grdn/fullset/2013/10/28/0/chicken-dinner.jpg.rend.hgtvcom.1280.853.suffix/1452647189712.jpeg\""
   ]
  },
  {
   "attachments": {},
   "cell_type": "markdown",
   "metadata": {
    "id": "6FeVeTZHxW1F"
   },
   "source": [
    "# **Train Data** \n",
    "1. Download Data set to Folder  \n",
    "2. Train data with yolov5/train.py\n"
   ]
  },
  {
   "cell_type": "code",
   "execution_count": null,
   "metadata": {},
   "outputs": [],
   "source": [
    "!python train.py --img 640 --batch 16 --epochs 5 --data ../Chicken_Detection_and_Tracking/data.yaml --weights yolov5n.pt"
   ]
  },
  {
   "attachments": {},
   "cell_type": "markdown",
   "metadata": {},
   "source": [
    "# Using custom model"
   ]
  },
  {
   "cell_type": "code",
   "execution_count": null,
   "metadata": {},
   "outputs": [],
   "source": [
    "!python detect.py --weights ./runs/train/exp/weights/best.pt --source \"https://hgtvhome.sndimg.com/content/dam/images/grdn/fullset/2013/10/28/0/chicken-dinner.jpg.rend.hgtvcom.1280.853.suffix/1452647189712.jpeg\""
   ]
  },
  {
   "cell_type": "code",
   "execution_count": null,
   "metadata": {},
   "outputs": [],
   "source": []
  }
 ],
 "metadata": {
  "colab": {
   "provenance": []
  },
  "kernelspec": {
   "display_name": "Python 3 (ipykernel)",
   "language": "python",
   "name": "python3"
  },
  "language_info": {
   "codemirror_mode": {
    "name": "ipython",
    "version": 3
   },
   "file_extension": ".py",
   "mimetype": "text/x-python",
   "name": "python",
   "nbconvert_exporter": "python",
   "pygments_lexer": "ipython3",
   "version": "3.10.13"
  }
 },
 "nbformat": 4,
 "nbformat_minor": 1
}
