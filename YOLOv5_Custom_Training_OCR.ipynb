{
 "cells": [
  {
   "attachments": {},
   "cell_type": "markdown",
   "metadata": {
    "id": "wOEqdJott7rg"
   },
   "source": [
    "## **Set up**\n",
    "1.   Check your GPU support CUDA https://developer.nvidia.com/cuda-gpus\n",
    "2.   Install pytorch https://pytorch.org/get-started/locally/ (recommended coda version)\n",
    "3.   Download CUDA version as pytouch version https://developer.nvidia.com/cuda-11-8-0-download-archive\n",
    "\n",
    "4.  Clone YOLOv5 https://github.com/ultralytics/yolov5 to wedo-ocr-watermeter-sw/tools/makeModel\n",
    "\n",
    "\n",
    "\n"
   ]
  },
  {
   "cell_type": "code",
   "execution_count": 7,
   "metadata": {
    "id": "XseMNEzawy-o"
   },
   "outputs": [
    {
     "name": "stdout",
     "output_type": "stream",
     "text": [
      "[Errno 2] No such file or directory: 'yolov5'\n",
      "/Users/pannawis/Projects/12_WHA_OCR_WaterMeter/wedo-ocr-watermeter-sw/tools/makeModel/yolov5\n",
      "Setup complete. Using torch 2.0.0 (CPU)\n"
     ]
    }
   ],
   "source": [
    "#Check library \n",
    "#test\n",
    "\n",
    "%cd yolov5\n",
    "\n",
    "import torch\n",
    "import os\n",
    "from IPython.display import Image, clear_output  # to display images\n",
    "\n",
    "print(f\"Setup complete. Using torch {torch.__version__} ({torch.cuda.get_device_properties(0).name if torch.cuda.is_available() else 'CPU'})\")"
   ]
  },
  {
   "attachments": {},
   "cell_type": "markdown",
   "metadata": {
    "id": "6FeVeTZHxW1F"
   },
   "source": [
    "# **Train Data** \n",
    "1. Download Data set to Folder  \n",
    "2. Train data with yolov5/train.py\n"
   ]
  },
  {
   "cell_type": "code",
   "execution_count": null,
   "metadata": {},
   "outputs": [],
   "source": [
    "!python train.py --img 640 --batch 25 --epochs 100 --data ../OCR_data/data.yaml --weights ../wedo_yolo5l.pt  --hyp ./data/hyps/hyp.scratch-OCR.yaml"
   ]
  }
 ],
 "metadata": {
  "colab": {
   "provenance": []
  },
  "kernelspec": {
   "display_name": "Python 3 (ipykernel)",
   "language": "python",
   "name": "python3"
  },
  "language_info": {
   "codemirror_mode": {
    "name": "ipython",
    "version": 3
   },
   "file_extension": ".py",
   "mimetype": "text/x-python",
   "name": "python",
   "nbconvert_exporter": "python",
   "pygments_lexer": "ipython3",
   "version": "3.11.3"
  }
 },
 "nbformat": 4,
 "nbformat_minor": 1
}
