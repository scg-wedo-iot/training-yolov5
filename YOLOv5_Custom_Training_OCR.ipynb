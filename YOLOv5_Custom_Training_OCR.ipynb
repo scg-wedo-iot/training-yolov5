{
 "cells": [
  {
   "attachments": {},
   "cell_type": "markdown",
   "metadata": {
    "id": "wOEqdJott7rg"
   },
   "source": [
    "## **Set up **\n",
    "# CPU\n",
    "1. pip install torch torchvision torchaudio #cpu\n",
    "# GPU\n",
    "1.Check your GPU support CUDA https://developer.nvidia.com/cuda-gpus\n",
    "2.Install pytorch https://pytorch.org/get-started/locally/ (recommended coda version)\n",
    "3.Download CUDA version as pytouch version https://developer.nvidia.com/cuda-11-8-0-download-archive\n",
    "4.Clone YOLOv5 https://github.com/ultralytics/yolov5 to project\n",
    "5\n",
    "\n",
    "\n",
    "\n"
   ]
  },
  {
   "attachments": {},
   "cell_type": "markdown",
   "metadata": {},
   "source": [
    "# Set root dir project"
   ]
  },
  {
   "cell_type": "code",
   "execution_count": 29,
   "metadata": {},
   "outputs": [
    {
     "data": {
      "text/plain": [
       "'/Users/sparkle/Documents/GitHub/yolov5-train/training-yolov5'"
      ]
     },
     "execution_count": 29,
     "metadata": {},
     "output_type": "execute_result"
    }
   ],
   "source": [
    "import os\n",
    "ROOT_DIR = os.path.abspath(os.curdir)\n",
    "ROOT_DIR"
   ]
  },
  {
   "attachments": {},
   "cell_type": "markdown",
   "metadata": {},
   "source": [
    "# Down load torch\n"
   ]
  },
  {
   "cell_type": "code",
   "execution_count": null,
   "metadata": {},
   "outputs": [],
   "source": [
    "%pip install torch torchvision torchaudio #cpu\n",
    "#!pip install torch torchvision torchaudio --index-url https://download.pytorch.org/whl/cu118 #windows cuda 11.8"
   ]
  },
  {
   "attachments": {},
   "cell_type": "markdown",
   "metadata": {},
   "source": [
    "# Down load data"
   ]
  },
  {
   "cell_type": "code",
   "execution_count": null,
   "metadata": {},
   "outputs": [],
   "source": [
    "# https://universe.roboflow.com/chickens/chicken-detection-and-tracking/dataset/1\n",
    "!curl -L \"https://universe.roboflow.com/ds/fneuitxnGA?key=O0keGNyBJ9\" > roboflow.zip; \n",
    "!unzip roboflow.zip -d Chicken_Detection_and_Tracking; rm roboflow.zip"
   ]
  },
  {
   "attachments": {},
   "cell_type": "markdown",
   "metadata": {},
   "source": [
    "# Down load lib"
   ]
  },
  {
   "cell_type": "code",
   "execution_count": null,
   "metadata": {},
   "outputs": [],
   "source": [
    "%pip install ultralytics"
   ]
  },
  {
   "cell_type": "code",
   "execution_count": 76,
   "metadata": {},
   "outputs": [
    {
     "name": "stdout",
     "output_type": "stream",
     "text": [
      "/Users/sparkle/Documents/GitHub/yolov5-train/training-yolov5\n",
      "/Users/sparkle/Documents/GitHub/yolov5-train/training-yolov5/yolov5\n",
      "Current is \n",
      "/Users/sparkle/Documents/GitHub/yolov5-train/training-yolov5/yolov5\n",
      "Path must be\n",
      "/Users/sparkle/Documents/GitHub/yolov5-train/training-yolov5/yolov5\n"
     ]
    }
   ],
   "source": [
    "import os\n",
    "import sys\n",
    "\n",
    "%cd {ROOT_DIR}\n",
    "if (\"yolov5\" not in os.listdir() ):\n",
    "    !git clone https://github.com/ultralytics/yolov5  # clone\n",
    "    %cd yolov5\n",
    "    %pip install -r requirements.txt  # install\n",
    "\n",
    "%cd yolov5\n",
    "print(\"Current is \") \n",
    "!pwd\n",
    "print(\"Path must be\")   \n",
    "print(f\"{ROOT_DIR}/yolov5\")   \n",
    "\n"
   ]
  },
  {
   "attachments": {},
   "cell_type": "markdown",
   "metadata": {},
   "source": [
    "# Test image YOLO"
   ]
  },
  {
   "cell_type": "code",
   "execution_count": 16,
   "metadata": {
    "id": "XseMNEzawy-o"
   },
   "outputs": [
    {
     "name": "stdout",
     "output_type": "stream",
     "text": [
      "Setup complete. Using torch 2.1.2 (CPU)\n"
     ]
    }
   ],
   "source": [
    "#Check library \n",
    "#test\n",
    "\n",
    "import torch\n",
    "import os\n",
    "from IPython.display import Image, clear_output  # to display images\n",
    "\n",
    "print(f\"Setup complete. Using torch {torch.__version__} ({torch.cuda.get_device_properties(0).name if torch.cuda.is_available()  else 'CPU'})\")\n"
   ]
  },
  {
   "cell_type": "code",
   "execution_count": 11,
   "metadata": {},
   "outputs": [
    {
     "name": "stdout",
     "output_type": "stream",
     "text": [
      "\u001b[34m\u001b[1mdetect: \u001b[0mweights=['yolov5s.pt'], source=https://hgtvhome.sndimg.com/content/dam/images/grdn/fullset/2013/10/28/0/chicken-dinner.jpg.rend.hgtvcom.1280.853.suffix/1452647189712.jpeg, data=data/coco128.yaml, imgsz=[640, 640], conf_thres=0.25, iou_thres=0.45, max_det=1000, device=, view_img=False, save_txt=False, save_csv=False, save_conf=False, save_crop=False, nosave=False, classes=None, agnostic_nms=False, augment=False, visualize=False, update=False, project=runs/detect, name=exp, exist_ok=False, line_thickness=3, hide_labels=False, hide_conf=False, half=False, dnn=False, vid_stride=1\n",
      "Found https://hgtvhome.sndimg.com/content/dam/images/grdn/fullset/2013/10/28/0/chicken-dinner.jpg.rend.hgtvcom.1280.853.suffix/1452647189712.jpeg locally at 1452647189712.jpeg\n",
      "YOLOv5 🚀 v7.0-247-g3f02fde Python-3.10.13 torch-2.1.2 CPU\n",
      "\n",
      "Fusing layers... \n",
      "YOLOv5s summary: 213 layers, 7225885 parameters, 0 gradients, 16.4 GFLOPs\n",
      "image 1/1 /Users/sparkle/Documents/GitHub/yolov5-train/training-yolov5/yolov5/1452647189712.jpeg: 448x640 1 bowl, 115.1ms\n",
      "Speed: 0.7ms pre-process, 115.1ms inference, 1.4ms NMS per image at shape (1, 3, 640, 640)\n",
      "Results saved to \u001b[1mruns/detect/exp8\u001b[0m\n"
     ]
    }
   ],
   "source": [
    "!python detect.py --weights yolov5s.pt --source \"https://hgtvhome.sndimg.com/content/dam/images/grdn/fullset/2013/10/28/0/chicken-dinner.jpg.rend.hgtvcom.1280.853.suffix/1452647189712.jpeg\""
   ]
  },
  {
   "attachments": {},
   "cell_type": "markdown",
   "metadata": {
    "id": "6FeVeTZHxW1F"
   },
   "source": [
    "# **Train Data** \n",
    "1. Download Data set name Chicken_Detection_and_Tracking to project folder (outside yolov5)\n",
    "2. set data.yaml\n",
    "```\n",
    "        train: ../Chicken_Detection_and_Tracking/train/images\n",
    "        val: ../Chicken_Detection_and_Tracking/valid/images\n",
    "\n",
    "        nc: 1\n",
    "        names: ['rooster']\n",
    "```\n",
    "3. Train data with yolov5/train.py\n",
    "\n"
   ]
  },
  {
   "cell_type": "code",
   "execution_count": 12,
   "metadata": {},
   "outputs": [
    {
     "name": "stdout",
     "output_type": "stream",
     "text": [
      "\u001b[34m\u001b[1mtrain: \u001b[0mweights=yolov5n.pt, cfg=, data=../Chicken_Detection_and_Tracking/data.yaml, hyp=data/hyps/hyp.scratch-low.yaml, epochs=5, batch_size=16, imgsz=640, rect=False, resume=False, nosave=False, noval=False, noautoanchor=False, noplots=False, evolve=None, bucket=, cache=None, image_weights=False, device=, multi_scale=False, single_cls=False, optimizer=SGD, sync_bn=False, workers=8, project=runs/train, name=exp, exist_ok=False, quad=False, cos_lr=False, label_smoothing=0.0, patience=100, freeze=[0], save_period=-1, seed=0, local_rank=-1, entity=None, upload_dataset=False, bbox_interval=-1, artifact_alias=latest\n",
      "remote: Enumerating objects: 17, done.\u001b[K\n",
      "remote: Counting objects: 100% (17/17), done.\u001b[K\n",
      "remote: Compressing objects: 100% (17/17), done.\u001b[K\n",
      "remote: Total 17 (delta 4), reused 5 (delta 0), pack-reused 0\u001b[K\n",
      "Unpacking objects: 100% (17/17), 30.86 KiB | 1.10 MiB/s, done.\n",
      "From https://github.com/ultralytics/yolov5\n",
      "   f400bba..63555c8  master     -> origin/master\n",
      "\u001b[34m\u001b[1mgithub: \u001b[0m⚠️ YOLOv5 is out of date by 6 commits. Use 'git pull' or 'git clone https://github.com/ultralytics/yolov5' to update.\n",
      "YOLOv5 🚀 v7.0-247-g3f02fde Python-3.10.13 torch-2.1.2 CPU\n",
      "\n",
      "\u001b[34m\u001b[1mhyperparameters: \u001b[0mlr0=0.01, lrf=0.01, momentum=0.937, weight_decay=0.0005, warmup_epochs=3.0, warmup_momentum=0.8, warmup_bias_lr=0.1, box=0.05, cls=0.5, cls_pw=1.0, obj=1.0, obj_pw=1.0, iou_t=0.2, anchor_t=4.0, fl_gamma=0.0, hsv_h=0.015, hsv_s=0.7, hsv_v=0.4, degrees=0.0, translate=0.1, scale=0.5, shear=0.0, perspective=0.0, flipud=0.0, fliplr=0.5, mosaic=1.0, mixup=0.0, copy_paste=0.0\n",
      "\u001b[34m\u001b[1mComet: \u001b[0mrun 'pip install comet_ml' to automatically track and visualize YOLOv5 🚀 runs in Comet\n",
      "\u001b[34m\u001b[1mTensorBoard: \u001b[0mStart with 'tensorboard --logdir runs/train', view at http://localhost:6006/\n",
      "Overriding model.yaml nc=80 with nc=1\n",
      "\n",
      "                 from  n    params  module                                  arguments                     \n",
      "  0                -1  1      1760  models.common.Conv                      [3, 16, 6, 2, 2]              \n",
      "  1                -1  1      4672  models.common.Conv                      [16, 32, 3, 2]                \n",
      "  2                -1  1      4800  models.common.C3                        [32, 32, 1]                   \n",
      "  3                -1  1     18560  models.common.Conv                      [32, 64, 3, 2]                \n",
      "  4                -1  2     29184  models.common.C3                        [64, 64, 2]                   \n",
      "  5                -1  1     73984  models.common.Conv                      [64, 128, 3, 2]               \n",
      "  6                -1  3    156928  models.common.C3                        [128, 128, 3]                 \n",
      "  7                -1  1    295424  models.common.Conv                      [128, 256, 3, 2]              \n",
      "  8                -1  1    296448  models.common.C3                        [256, 256, 1]                 \n",
      "  9                -1  1    164608  models.common.SPPF                      [256, 256, 5]                 \n",
      " 10                -1  1     33024  models.common.Conv                      [256, 128, 1, 1]              \n",
      " 11                -1  1         0  torch.nn.modules.upsampling.Upsample    [None, 2, 'nearest']          \n",
      " 12           [-1, 6]  1         0  models.common.Concat                    [1]                           \n",
      " 13                -1  1     90880  models.common.C3                        [256, 128, 1, False]          \n",
      " 14                -1  1      8320  models.common.Conv                      [128, 64, 1, 1]               \n",
      " 15                -1  1         0  torch.nn.modules.upsampling.Upsample    [None, 2, 'nearest']          \n",
      " 16           [-1, 4]  1         0  models.common.Concat                    [1]                           \n",
      " 17                -1  1     22912  models.common.C3                        [128, 64, 1, False]           \n",
      " 18                -1  1     36992  models.common.Conv                      [64, 64, 3, 2]                \n",
      " 19          [-1, 14]  1         0  models.common.Concat                    [1]                           \n",
      " 20                -1  1     74496  models.common.C3                        [128, 128, 1, False]          \n",
      " 21                -1  1    147712  models.common.Conv                      [128, 128, 3, 2]              \n",
      " 22          [-1, 10]  1         0  models.common.Concat                    [1]                           \n",
      " 23                -1  1    296448  models.common.C3                        [256, 256, 1, False]          \n",
      " 24      [17, 20, 23]  1      8118  models.yolo.Detect                      [1, [[10, 13, 16, 30, 33, 23], [30, 61, 62, 45, 59, 119], [116, 90, 156, 198, 373, 326]], [64, 128, 256]]\n",
      "Model summary: 214 layers, 1765270 parameters, 1765270 gradients, 4.2 GFLOPs\n",
      "\n",
      "Transferred 343/349 items from yolov5n.pt\n",
      "\u001b[34m\u001b[1moptimizer:\u001b[0m SGD(lr=0.01) with parameter groups 57 weight(decay=0.0), 60 weight(decay=0.0005), 60 bias\n",
      "\u001b[34m\u001b[1mtrain: \u001b[0mScanning /Users/sparkle/Documents/GitHub/yolov5-train/training-yolov5/Chi\u001b[0m\n",
      "\u001b[34m\u001b[1mval: \u001b[0mScanning /Users/sparkle/Documents/GitHub/yolov5-train/training-yolov5/Chick\u001b[0m\n",
      "\n",
      "\u001b[34m\u001b[1mAutoAnchor: \u001b[0m4.22 anchors/target, 1.000 Best Possible Recall (BPR). Current anchors are a good fit to dataset ✅\n",
      "Plotting labels to runs/train/exp15/labels.jpg... \n",
      "Image sizes 640 train, 640 val\n",
      "Using 8 dataloader workers\n",
      "Logging results to \u001b[1mruns/train/exp15\u001b[0m\n",
      "Starting training for 5 epochs...\n",
      "\n",
      "      Epoch    GPU_mem   box_loss   obj_loss   cls_loss  Instances       Size\n",
      "        0/4         0G     0.1202    0.04771          0        100        640: 1\n",
      "                 Class     Images  Instances          P          R      mAP50   WARNING ⚠️ NMS time limit 2.100s exceeded\n",
      "                 Class     Images  Instances          P          R      mAP50   \n",
      "                   all         38         89     0.0203      0.169     0.0125     0.0025\n",
      "\n",
      "      Epoch    GPU_mem   box_loss   obj_loss   cls_loss  Instances       Size\n",
      "        1/4         0G     0.1096    0.04488          0         88        640: 1\n",
      "                 Class     Images  Instances          P          R      mAP50   WARNING ⚠️ NMS time limit 2.100s exceeded\n",
      "                 Class     Images  Instances          P          R      mAP50   \n",
      "                   all         38         89        0.4     0.0449     0.0608     0.0189\n",
      "\n",
      "      Epoch    GPU_mem   box_loss   obj_loss   cls_loss  Instances       Size\n",
      "        2/4         0G    0.09739    0.04837          0         97        640: 1\n",
      "                 Class     Images  Instances          P          R      mAP50   WARNING ⚠️ NMS time limit 2.100s exceeded\n",
      "                 Class     Images  Instances          P          R      mAP50   \n",
      "                   all         38         89      0.128      0.169     0.0805     0.0218\n",
      "\n",
      "      Epoch    GPU_mem   box_loss   obj_loss   cls_loss  Instances       Size\n",
      "        3/4         0G    0.09368    0.04799          0        107        640: 1\n",
      "                 Class     Images  Instances          P          R      mAP50   \n",
      "                   all         38         89      0.175       0.27      0.126      0.035\n",
      "\n",
      "      Epoch    GPU_mem   box_loss   obj_loss   cls_loss  Instances       Size\n",
      "        4/4         0G    0.08666    0.05086          0        107        640: 1\n",
      "                 Class     Images  Instances          P          R      mAP50   \n",
      "                   all         38         89       0.22       0.27      0.169     0.0474\n",
      "\n",
      "5 epochs completed in 0.062 hours.\n",
      "Optimizer stripped from runs/train/exp15/weights/last.pt, 3.8MB\n",
      "Optimizer stripped from runs/train/exp15/weights/best.pt, 3.8MB\n",
      "\n",
      "Validating runs/train/exp15/weights/best.pt...\n",
      "Fusing layers... \n",
      "Model summary: 157 layers, 1760518 parameters, 0 gradients, 4.1 GFLOPs\n",
      "                 Class     Images  Instances          P          R      mAP50   \n",
      "                   all         38         89      0.211      0.258      0.164     0.0456\n",
      "Results saved to \u001b[1mruns/train/exp15\u001b[0m\n"
     ]
    }
   ],
   "source": [
    "!python train.py --img 640 --batch 16 --epochs 5 --data ../Chicken_Detection_and_Tracking/data.yaml --weights yolov5n.pt"
   ]
  },
  {
   "attachments": {},
   "cell_type": "markdown",
   "metadata": {},
   "source": [
    "# Using custom model"
   ]
  },
  {
   "cell_type": "code",
   "execution_count": 14,
   "metadata": {},
   "outputs": [
    {
     "name": "stdout",
     "output_type": "stream",
     "text": [
      "\u001b[34m\u001b[1mdetect: \u001b[0mweights=['./runs/train/exp15/weights/best.pt'], source=https://hgtvhome.sndimg.com/content/dam/images/grdn/fullset/2013/10/28/0/chicken-dinner.jpg.rend.hgtvcom.1280.853.suffix/1452647189712.jpeg, data=data/coco128.yaml, imgsz=[640, 640], conf_thres=0.25, iou_thres=0.45, max_det=1000, device=, view_img=False, save_txt=False, save_csv=False, save_conf=False, save_crop=False, nosave=False, classes=None, agnostic_nms=False, augment=False, visualize=False, update=False, project=runs/detect, name=exp, exist_ok=False, line_thickness=3, hide_labels=False, hide_conf=False, half=False, dnn=False, vid_stride=1\n",
      "Found https://hgtvhome.sndimg.com/content/dam/images/grdn/fullset/2013/10/28/0/chicken-dinner.jpg.rend.hgtvcom.1280.853.suffix/1452647189712.jpeg locally at 1452647189712.jpeg\n",
      "YOLOv5 🚀 v7.0-247-g3f02fde Python-3.10.13 torch-2.1.2 CPU\n",
      "\n",
      "Fusing layers... \n",
      "Model summary: 157 layers, 1760518 parameters, 0 gradients, 4.1 GFLOPs\n",
      "image 1/1 /Users/sparkle/Documents/GitHub/yolov5-train/training-yolov5/yolov5/1452647189712.jpeg: 448x640 (no detections), 63.1ms\n",
      "Speed: 0.5ms pre-process, 63.1ms inference, 0.1ms NMS per image at shape (1, 3, 640, 640)\n",
      "Results saved to \u001b[1mruns/detect/exp10\u001b[0m\n"
     ]
    }
   ],
   "source": [
    "!python detect.py --weights ./runs/train/exp15/weights/best.pt --source \"https://hgtvhome.sndimg.com/content/dam/images/grdn/fullset/2013/10/28/0/chicken-dinner.jpg.rend.hgtvcom.1280.853.suffix/1452647189712.jpeg\""
   ]
  }
 ],
 "metadata": {
  "colab": {
   "provenance": []
  },
  "kernelspec": {
   "display_name": "Python 3 (ipykernel)",
   "language": "python",
   "name": "python3"
  },
  "language_info": {
   "codemirror_mode": {
    "name": "ipython",
    "version": 3
   },
   "file_extension": ".py",
   "mimetype": "text/x-python",
   "name": "python",
   "nbconvert_exporter": "python",
   "pygments_lexer": "ipython3",
   "version": "3.10.13"
  }
 },
 "nbformat": 4,
 "nbformat_minor": 1
}
